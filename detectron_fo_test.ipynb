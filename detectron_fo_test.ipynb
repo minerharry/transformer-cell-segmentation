{
 "cells": [
  {
   "cell_type": "code",
   "execution_count": null,
   "metadata": {},
   "outputs": [],
   "source": [
    "# Setup detectron2 logger\n",
    "import detectron2\n",
    "from detectron2.utils.logger import setup_logger\n",
    "setup_logger()\n",
    "\n",
    "# import some common libraries\n",
    "import numpy as np\n",
    "import os, cv2\n",
    "\n",
    "# import some common detectron2 utilities\n",
    "from detectron2 import model_zoo\n",
    "from detectron2.engine import DefaultPredictor\n",
    "from detectron2.config import get_cfg\n",
    "from detectron2.projects.deeplab import add_deeplab_config\n",
    "from detectron2.data import MetadataCatalog, DatasetCatalog"
   ]
  },
  {
   "cell_type": "code",
   "execution_count": 5,
   "metadata": {},
   "outputs": [
    {
     "name": "stdout",
     "output_type": "stream",
     "text": [
      "Downloading split 'validation' to 'C:\\Users\\miner\\fiftyone\\open-images-v6\\validation' if necessary\n",
      "Downloading 'https://storage.googleapis.com/openimages/2018_04/validation/validation-images-with-rotation.csv' to 'C:\\Users\\miner\\fiftyone\\open-images-v6\\validation\\metadata\\image_ids.csv'\n",
      "Downloading 'https://storage.googleapis.com/openimages/v5/class-descriptions-boxable.csv' to 'C:\\Users\\miner\\fiftyone\\open-images-v6\\validation\\metadata\\classes.csv'\n",
      "Downloading 'https://storage.googleapis.com/openimages/v5/classes-segmentation.txt' to 'C:\\Users\\miner\\fiftyone\\open-images-v6\\validation\\metadata\\segmentation_classes.csv'\n",
      "Downloading 'https://storage.googleapis.com/openimages/2018_04/bbox_labels_600_hierarchy.json' to 'C:\\Users\\miner\\AppData\\Local\\Temp\\tmpge4wh06d\\metadata\\hierarchy.json'\n",
      "Downloading 'https://storage.googleapis.com/openimages/v5/validation-annotations-object-segmentation.csv' to 'C:\\Users\\miner\\fiftyone\\open-images-v6\\validation\\labels\\segmentations.csv'\n",
      "Downloading 287 images\n",
      " 100% |███████████████████| 287/287 [1.4m elapsed, 0s remaining, 5.4 files/s]      \n",
      "Dataset info written to 'C:\\Users\\miner\\fiftyone\\open-images-v6\\info.json'\n",
      "Loading 'open-images-v6' split 'validation'\n",
      " 100% |█████████████████| 287/287 [5.7s elapsed, 0s remaining, 56.0 samples/s]      \n",
      "Dataset 'open-images-v6-validation' created\n"
     ]
    }
   ],
   "source": [
    "import fiftyone.zoo as foz\n",
    "dataset = foz.load_zoo_dataset(\n",
    "    \"open-images-v6\",\n",
    "    split=\"validation\",\n",
    "    classes=[\"Vehicle registration plate\"],\n",
    "    label_types=[\"segmentations\"],\n",
    "    label_field=\"segmentations\",\n",
    ")"
   ]
  },
  {
   "cell_type": "code",
   "execution_count": 6,
   "metadata": {},
   "outputs": [
    {
     "data": {
      "text/plain": [
       "Name:        open-images-v6-validation\n",
       "Media type:  image\n",
       "Num samples: 287\n",
       "Persistent:  False\n",
       "Tags:        []\n",
       "Sample fields:\n",
       "    id:               fiftyone.core.fields.ObjectIdField\n",
       "    filepath:         fiftyone.core.fields.StringField\n",
       "    tags:             fiftyone.core.fields.ListField(fiftyone.core.fields.StringField)\n",
       "    metadata:         fiftyone.core.fields.EmbeddedDocumentField(fiftyone.core.metadata.ImageMetadata)\n",
       "    created_at:       fiftyone.core.fields.DateTimeField\n",
       "    last_modified_at: fiftyone.core.fields.DateTimeField\n",
       "    segmentations:    fiftyone.core.fields.EmbeddedDocumentField(fiftyone.core.labels.Detections)"
      ]
     },
     "execution_count": 6,
     "metadata": {},
     "output_type": "execute_result"
    }
   ],
   "source": [
    "dataset"
   ]
  },
  {
   "cell_type": "code",
   "execution_count": 16,
   "metadata": {},
   "outputs": [
    {
     "name": "stdout",
     "output_type": "stream",
     "text": [
      " 100% |███████████████████| 56/56 [36.0ms elapsed, 0s remaining, 1.6K samples/s]      \n"
     ]
    }
   ],
   "source": [
    "import fiftyone as fo\n",
    "from fiftyone.utils.data.importers import ImageSegmentationDirectoryImporter\n",
    "from pathlib import Path\n",
    "imfolder = 'C:\\\\Users\\\\miner\\\\OneDrive - University of North Carolina at Chapel Hill\\\\Bear Lab\\\\optotaxis calibration\\\\data\\\\segmentation_iteration_testing\\\\iter4\\\\round1\\\\images'\n",
    "maskfolder = Path('C:/Users/miner/OneDrive - University of North Carolina at Chapel Hill/Bear Lab/optotaxis calibration/data/segmentation_iteration_testing/iter4/round1/masks')\n",
    "imp = ImageSegmentationDirectoryImporter(data_path=imfolder,labels_path=maskfolder)\n",
    "dataset = fo.Dataset.from_importer(imp)\n",
    "\n",
    "#directory importer puts mask as ground truth, rename to \"segmentations\" to match demo\n",
    "dataset.rename_sample_field(\"ground_truth\",\"segmentations\")\n",
    "\n",
    "import fiftyone.utils.random as four\n",
    "\n",
    "four.random_split(dataset, {\"train\": 0.8, \"val\": 0.2})"
   ]
  },
  {
   "cell_type": "code",
   "execution_count": 18,
   "metadata": {},
   "outputs": [
    {
     "data": {
      "text/plain": [
       "Name:        2025.04.19.18.22.07\n",
       "Media type:  image\n",
       "Num samples: 56\n",
       "Persistent:  False\n",
       "Tags:        []\n",
       "Sample fields:\n",
       "    id:               fiftyone.core.fields.ObjectIdField\n",
       "    filepath:         fiftyone.core.fields.StringField\n",
       "    tags:             fiftyone.core.fields.ListField(fiftyone.core.fields.StringField)\n",
       "    metadata:         fiftyone.core.fields.EmbeddedDocumentField(fiftyone.core.metadata.ImageMetadata)\n",
       "    created_at:       fiftyone.core.fields.DateTimeField\n",
       "    last_modified_at: fiftyone.core.fields.DateTimeField\n",
       "    segmentations:    fiftyone.core.fields.EmbeddedDocumentField(fiftyone.core.labels.Segmentation)"
      ]
     },
     "execution_count": 18,
     "metadata": {},
     "output_type": "execute_result"
    }
   ],
   "source": [
    "dataset"
   ]
  },
  {
   "cell_type": "code",
   "execution_count": 20,
   "metadata": {},
   "outputs": [],
   "source": [
    "samp = next(iter(dataset))"
   ]
  },
  {
   "cell_type": "code",
   "execution_count": 23,
   "metadata": {},
   "outputs": [
    {
     "data": {
      "text/plain": [
       "<Segmentation: {\n",
       "    'id': '6804220f4fe1c5ab5c34b6b7',\n",
       "    'tags': [],\n",
       "    'mask': None,\n",
       "    'mask_path': 'C:\\\\Users\\\\miner\\\\OneDrive - University of North Carolina at Chapel Hill\\\\Bear Lab\\\\optotaxis calibration\\\\data\\\\segmentation_iteration_testing\\\\iter4\\\\round1\\\\masks\\\\migration1_s10_t6.TIF',\n",
       "}>"
      ]
     },
     "execution_count": 23,
     "metadata": {},
     "output_type": "execute_result"
    }
   ],
   "source": [
    "samp.segmentations"
   ]
  },
  {
   "cell_type": "code",
   "execution_count": 24,
   "metadata": {},
   "outputs": [
    {
     "data": {
      "text/plain": [
       "'6804220f4fe1c5ab5c34b6b8'"
      ]
     },
     "execution_count": 24,
     "metadata": {},
     "output_type": "execute_result"
    }
   ],
   "source": [
    "samp[\"id\"]"
   ]
  },
  {
   "cell_type": "code",
   "execution_count": 25,
   "metadata": {},
   "outputs": [],
   "source": [
    "def semantic_segmentation_to_detectron2(samples:fo.Dataset,seg_field=\"segmentations\"):\n",
    "    samples.compute_metadata()\n",
    "\n",
    "    dataset_dicts = []\n",
    "    for sample in samples.select_fields([\"id\", \"filepath\", \"metadata\", seg_field]):\n",
    "        height = sample.metadata[\"height\"]\n",
    "        width = sample.metadata[\"width\"]\n",
    "        record = {}\n",
    "        record[\"file_name\"] = sample.filepath\n",
    "        record[\"image_id\"] = sample.id\n",
    "        record[\"height\"] = height\n",
    "        record[\"width\"] = width\n",
    "        record[\"sem_seg_file_name\"] = samp[seg_field].mask_path\n",
    " \n",
    "            # objs = []\n",
    "            # for det in sample[seg_field].detections:\n",
    "            #     tlx, tly, w, h = det.bounding_box\n",
    "            #     bbox = [int(tlx*width), int(tly*height), int(w*width), int(h*height)]\n",
    "            #     fo_poly = det.to_polyline()\n",
    "            #     poly = [(x*width, y*height) for x, y in fo_poly.points[0]]\n",
    "            #     poly = [p for x in poly for p in x]\n",
    "            #     obj = {\n",
    "            #         \"bbox\": bbox,\n",
    "            #         \"bbox_mode\": BoxMode.XYWH_ABS,\n",
    "            #         \"segmentation\": [poly],\n",
    "            #         \"category_id\": 0,\n",
    "            #     }\n",
    "            #     objs.append(obj)\n",
    "\n",
    "            # record[\"annotations\"] = objs\n",
    "        dataset_dicts.append(record)\n",
    "\n",
    "    return dataset_dicts\n",
    "\n",
    "\n",
    "for d in [\"train\", \"val\"]:\n",
    "    view = dataset.match_tags(d)\n",
    "    DatasetCatalog.register(\"fiftyone_\" + d, lambda view=view: semantic_segmentation_to_detectron2(view))\n",
    "    MetadataCatalog.get(\"fiftyone_\" + d).set(stuff_classes=[\"cytoplasm\"])\n"
   ]
  },
  {
   "cell_type": "code",
   "execution_count": 35,
   "metadata": {},
   "outputs": [
    {
     "data": {
      "text/plain": [
       "WindowsPath('c:/Users/miner/Documents/Github/cell_segmentation_project')"
      ]
     },
     "execution_count": 35,
     "metadata": {},
     "output_type": "execute_result"
    }
   ],
   "source": [
    "Path(\".\").absolute()"
   ]
  },
  {
   "cell_type": "code",
   "execution_count": 40,
   "metadata": {},
   "outputs": [
    {
     "ename": "ModuleNotFoundError",
     "evalue": "\n\nPlease compile MultiScaleDeformableAttention CUDA op with the following commands:\n\t`cd mask2former/modeling/pixel_decoder/ops`\n\t`sh make.sh`\n",
     "output_type": "error",
     "traceback": [
      "\u001b[1;31m---------------------------------------------------------------------------\u001b[0m",
      "\u001b[1;31mModuleNotFoundError\u001b[0m                       Traceback (most recent call last)",
      "File \u001b[1;32mc:\\Users\\miner\\Documents\\Github\\cell_segmentation_project\\Mask2Former\\mask2former\\modeling\\pixel_decoder\\ops\\functions\\ms_deform_attn_func.py:22\u001b[0m\n\u001b[0;32m     21\u001b[0m \u001b[38;5;28;01mtry\u001b[39;00m:\n\u001b[1;32m---> 22\u001b[0m     \u001b[38;5;28;01mimport\u001b[39;00m\u001b[38;5;250m \u001b[39m\u001b[38;5;21;01mMultiScaleDeformableAttention\u001b[39;00m\u001b[38;5;250m \u001b[39m\u001b[38;5;28;01mas\u001b[39;00m\u001b[38;5;250m \u001b[39m\u001b[38;5;21;01mMSDA\u001b[39;00m\n\u001b[0;32m     23\u001b[0m \u001b[38;5;28;01mexcept\u001b[39;00m \u001b[38;5;167;01mModuleNotFoundError\u001b[39;00m \u001b[38;5;28;01mas\u001b[39;00m e:\n",
      "\u001b[1;31mModuleNotFoundError\u001b[0m: No module named 'MultiScaleDeformableAttention'",
      "\nDuring handling of the above exception, another exception occurred:\n",
      "\u001b[1;31mModuleNotFoundError\u001b[0m                       Traceback (most recent call last)",
      "Cell \u001b[1;32mIn[40], line 1\u001b[0m\n\u001b[1;32m----> 1\u001b[0m \u001b[38;5;28;01mfrom\u001b[39;00m\u001b[38;5;250m \u001b[39m\u001b[38;5;21;01mMask2Former\u001b[39;00m\u001b[38;5;21;01m.\u001b[39;00m\u001b[38;5;21;01mmask2former\u001b[39;00m\u001b[38;5;250m \u001b[39m\u001b[38;5;28;01mimport\u001b[39;00m add_maskformer2_config\n\u001b[0;32m      2\u001b[0m cityscapes_config \u001b[38;5;241m=\u001b[39m \u001b[38;5;124mr\u001b[39m\u001b[38;5;124m\"\u001b[39m\u001b[38;5;124mC:\u001b[39m\u001b[38;5;124m\\\u001b[39m\u001b[38;5;124mUsers\u001b[39m\u001b[38;5;124m\\\u001b[39m\u001b[38;5;124mminer\u001b[39m\u001b[38;5;124m\\\u001b[39m\u001b[38;5;124mDocuments\u001b[39m\u001b[38;5;124m\\\u001b[39m\u001b[38;5;124mGithub\u001b[39m\u001b[38;5;124m\\\u001b[39m\u001b[38;5;124mcell_segmentation_project\u001b[39m\u001b[38;5;124m\\\u001b[39m\u001b[38;5;124mMask2Former\u001b[39m\u001b[38;5;124m\\\u001b[39m\u001b[38;5;124mconfigs\u001b[39m\u001b[38;5;124m\\\u001b[39m\u001b[38;5;124mcityscapes\u001b[39m\u001b[38;5;124m\\\u001b[39m\u001b[38;5;124msemantic-segmentation\u001b[39m\u001b[38;5;124m\\\u001b[39m\u001b[38;5;124mswin\u001b[39m\u001b[38;5;124m\\\u001b[39m\u001b[38;5;124mmaskformer2_swin_tiny_bs16_90k.yaml\u001b[39m\u001b[38;5;124m\"\u001b[39m\n\u001b[0;32m      3\u001b[0m cfg \u001b[38;5;241m=\u001b[39m get_cfg()\n",
      "File \u001b[1;32mc:\\Users\\miner\\Documents\\Github\\cell_segmentation_project\\Mask2Former\\mask2former\\__init__.py:3\u001b[0m\n\u001b[0;32m      1\u001b[0m \u001b[38;5;66;03m# Copyright (c) Facebook, Inc. and its affiliates.\u001b[39;00m\n\u001b[0;32m      2\u001b[0m \u001b[38;5;28;01mfrom\u001b[39;00m\u001b[38;5;250m \u001b[39m\u001b[38;5;21;01m.\u001b[39;00m\u001b[38;5;250m \u001b[39m\u001b[38;5;28;01mimport\u001b[39;00m data  \u001b[38;5;66;03m# register all new datasets\u001b[39;00m\n\u001b[1;32m----> 3\u001b[0m \u001b[38;5;28;01mfrom\u001b[39;00m\u001b[38;5;250m \u001b[39m\u001b[38;5;21;01m.\u001b[39;00m\u001b[38;5;250m \u001b[39m\u001b[38;5;28;01mimport\u001b[39;00m modeling\n\u001b[0;32m      5\u001b[0m \u001b[38;5;66;03m# config\u001b[39;00m\n\u001b[0;32m      6\u001b[0m \u001b[38;5;28;01mfrom\u001b[39;00m\u001b[38;5;250m \u001b[39m\u001b[38;5;21;01m.\u001b[39;00m\u001b[38;5;21;01mconfig\u001b[39;00m\u001b[38;5;250m \u001b[39m\u001b[38;5;28;01mimport\u001b[39;00m add_maskformer2_config\n",
      "File \u001b[1;32mc:\\Users\\miner\\Documents\\Github\\cell_segmentation_project\\Mask2Former\\mask2former\\modeling\\__init__.py:4\u001b[0m\n\u001b[0;32m      2\u001b[0m \u001b[38;5;28;01mfrom\u001b[39;00m\u001b[38;5;250m \u001b[39m\u001b[38;5;21;01m.\u001b[39;00m\u001b[38;5;21;01mbackbone\u001b[39;00m\u001b[38;5;21;01m.\u001b[39;00m\u001b[38;5;21;01mswin\u001b[39;00m\u001b[38;5;250m \u001b[39m\u001b[38;5;28;01mimport\u001b[39;00m D2SwinTransformer\n\u001b[0;32m      3\u001b[0m \u001b[38;5;28;01mfrom\u001b[39;00m\u001b[38;5;250m \u001b[39m\u001b[38;5;21;01m.\u001b[39;00m\u001b[38;5;21;01mpixel_decoder\u001b[39;00m\u001b[38;5;21;01m.\u001b[39;00m\u001b[38;5;21;01mfpn\u001b[39;00m\u001b[38;5;250m \u001b[39m\u001b[38;5;28;01mimport\u001b[39;00m BasePixelDecoder\n\u001b[1;32m----> 4\u001b[0m \u001b[38;5;28;01mfrom\u001b[39;00m\u001b[38;5;250m \u001b[39m\u001b[38;5;21;01m.\u001b[39;00m\u001b[38;5;21;01mpixel_decoder\u001b[39;00m\u001b[38;5;21;01m.\u001b[39;00m\u001b[38;5;21;01mmsdeformattn\u001b[39;00m\u001b[38;5;250m \u001b[39m\u001b[38;5;28;01mimport\u001b[39;00m MSDeformAttnPixelDecoder\n\u001b[0;32m      5\u001b[0m \u001b[38;5;28;01mfrom\u001b[39;00m\u001b[38;5;250m \u001b[39m\u001b[38;5;21;01m.\u001b[39;00m\u001b[38;5;21;01mmeta_arch\u001b[39;00m\u001b[38;5;21;01m.\u001b[39;00m\u001b[38;5;21;01mmask_former_head\u001b[39;00m\u001b[38;5;250m \u001b[39m\u001b[38;5;28;01mimport\u001b[39;00m MaskFormerHead\n\u001b[0;32m      6\u001b[0m \u001b[38;5;28;01mfrom\u001b[39;00m\u001b[38;5;250m \u001b[39m\u001b[38;5;21;01m.\u001b[39;00m\u001b[38;5;21;01mmeta_arch\u001b[39;00m\u001b[38;5;21;01m.\u001b[39;00m\u001b[38;5;21;01mper_pixel_baseline\u001b[39;00m\u001b[38;5;250m \u001b[39m\u001b[38;5;28;01mimport\u001b[39;00m PerPixelBaselineHead, PerPixelBaselinePlusHead\n",
      "File \u001b[1;32mc:\\Users\\miner\\Documents\\Github\\cell_segmentation_project\\Mask2Former\\mask2former\\modeling\\pixel_decoder\\msdeformattn.py:19\u001b[0m\n\u001b[0;32m     17\u001b[0m \u001b[38;5;28;01mfrom\u001b[39;00m\u001b[38;5;250m \u001b[39m\u001b[38;5;21;01m.\u001b[39;00m\u001b[38;5;21;01m.\u001b[39;00m\u001b[38;5;21;01mtransformer_decoder\u001b[39;00m\u001b[38;5;21;01m.\u001b[39;00m\u001b[38;5;21;01mposition_encoding\u001b[39;00m\u001b[38;5;250m \u001b[39m\u001b[38;5;28;01mimport\u001b[39;00m PositionEmbeddingSine\n\u001b[0;32m     18\u001b[0m \u001b[38;5;28;01mfrom\u001b[39;00m\u001b[38;5;250m \u001b[39m\u001b[38;5;21;01m.\u001b[39;00m\u001b[38;5;21;01m.\u001b[39;00m\u001b[38;5;21;01mtransformer_decoder\u001b[39;00m\u001b[38;5;21;01m.\u001b[39;00m\u001b[38;5;21;01mtransformer\u001b[39;00m\u001b[38;5;250m \u001b[39m\u001b[38;5;28;01mimport\u001b[39;00m _get_clones, _get_activation_fn\n\u001b[1;32m---> 19\u001b[0m \u001b[38;5;28;01mfrom\u001b[39;00m\u001b[38;5;250m \u001b[39m\u001b[38;5;21;01m.\u001b[39;00m\u001b[38;5;21;01mops\u001b[39;00m\u001b[38;5;21;01m.\u001b[39;00m\u001b[38;5;21;01mmodules\u001b[39;00m\u001b[38;5;250m \u001b[39m\u001b[38;5;28;01mimport\u001b[39;00m MSDeformAttn\n\u001b[0;32m     22\u001b[0m \u001b[38;5;66;03m# MSDeformAttn Transformer encoder in deformable detr\u001b[39;00m\n\u001b[0;32m     23\u001b[0m \u001b[38;5;28;01mclass\u001b[39;00m\u001b[38;5;250m \u001b[39m\u001b[38;5;21;01mMSDeformAttnTransformerEncoderOnly\u001b[39;00m(nn\u001b[38;5;241m.\u001b[39mModule):\n",
      "File \u001b[1;32mc:\\Users\\miner\\Documents\\Github\\cell_segmentation_project\\Mask2Former\\mask2former\\modeling\\pixel_decoder\\ops\\modules\\__init__.py:12\u001b[0m\n\u001b[0;32m      1\u001b[0m \u001b[38;5;66;03m# ------------------------------------------------------------------------------------------------\u001b[39;00m\n\u001b[0;32m      2\u001b[0m \u001b[38;5;66;03m# Deformable DETR\u001b[39;00m\n\u001b[0;32m      3\u001b[0m \u001b[38;5;66;03m# Copyright (c) 2020 SenseTime. All Rights Reserved.\u001b[39;00m\n\u001b[1;32m   (...)\u001b[0m\n\u001b[0;32m      9\u001b[0m \u001b[38;5;66;03m# Copyright (c) Facebook, Inc. and its affiliates.\u001b[39;00m\n\u001b[0;32m     10\u001b[0m \u001b[38;5;66;03m# Modified by Bowen Cheng from https://github.com/fundamentalvision/Deformable-DETR\u001b[39;00m\n\u001b[1;32m---> 12\u001b[0m \u001b[38;5;28;01mfrom\u001b[39;00m\u001b[38;5;250m \u001b[39m\u001b[38;5;21;01m.\u001b[39;00m\u001b[38;5;21;01mms_deform_attn\u001b[39;00m\u001b[38;5;250m \u001b[39m\u001b[38;5;28;01mimport\u001b[39;00m MSDeformAttn\n",
      "File \u001b[1;32mc:\\Users\\miner\\Documents\\Github\\cell_segmentation_project\\Mask2Former\\mask2former\\modeling\\pixel_decoder\\ops\\modules\\ms_deform_attn.py:24\u001b[0m\n\u001b[0;32m     21\u001b[0m \u001b[38;5;28;01mimport\u001b[39;00m\u001b[38;5;250m \u001b[39m\u001b[38;5;21;01mtorch\u001b[39;00m\u001b[38;5;21;01m.\u001b[39;00m\u001b[38;5;21;01mnn\u001b[39;00m\u001b[38;5;21;01m.\u001b[39;00m\u001b[38;5;21;01mfunctional\u001b[39;00m\u001b[38;5;250m \u001b[39m\u001b[38;5;28;01mas\u001b[39;00m\u001b[38;5;250m \u001b[39m\u001b[38;5;21;01mF\u001b[39;00m\n\u001b[0;32m     22\u001b[0m \u001b[38;5;28;01mfrom\u001b[39;00m\u001b[38;5;250m \u001b[39m\u001b[38;5;21;01mtorch\u001b[39;00m\u001b[38;5;21;01m.\u001b[39;00m\u001b[38;5;21;01mnn\u001b[39;00m\u001b[38;5;21;01m.\u001b[39;00m\u001b[38;5;21;01minit\u001b[39;00m\u001b[38;5;250m \u001b[39m\u001b[38;5;28;01mimport\u001b[39;00m xavier_uniform_, constant_\n\u001b[1;32m---> 24\u001b[0m \u001b[38;5;28;01mfrom\u001b[39;00m\u001b[38;5;250m \u001b[39m\u001b[38;5;21;01m.\u001b[39;00m\u001b[38;5;21;01m.\u001b[39;00m\u001b[38;5;21;01mfunctions\u001b[39;00m\u001b[38;5;250m \u001b[39m\u001b[38;5;28;01mimport\u001b[39;00m MSDeformAttnFunction\n\u001b[0;32m     25\u001b[0m \u001b[38;5;28;01mfrom\u001b[39;00m\u001b[38;5;250m \u001b[39m\u001b[38;5;21;01m.\u001b[39;00m\u001b[38;5;21;01m.\u001b[39;00m\u001b[38;5;21;01mfunctions\u001b[39;00m\u001b[38;5;21;01m.\u001b[39;00m\u001b[38;5;21;01mms_deform_attn_func\u001b[39;00m\u001b[38;5;250m \u001b[39m\u001b[38;5;28;01mimport\u001b[39;00m ms_deform_attn_core_pytorch\n\u001b[0;32m     28\u001b[0m \u001b[38;5;28;01mdef\u001b[39;00m\u001b[38;5;250m \u001b[39m\u001b[38;5;21m_is_power_of_2\u001b[39m(n):\n",
      "File \u001b[1;32mc:\\Users\\miner\\Documents\\Github\\cell_segmentation_project\\Mask2Former\\mask2former\\modeling\\pixel_decoder\\ops\\functions\\__init__.py:12\u001b[0m\n\u001b[0;32m      1\u001b[0m \u001b[38;5;66;03m# ------------------------------------------------------------------------------------------------\u001b[39;00m\n\u001b[0;32m      2\u001b[0m \u001b[38;5;66;03m# Deformable DETR\u001b[39;00m\n\u001b[0;32m      3\u001b[0m \u001b[38;5;66;03m# Copyright (c) 2020 SenseTime. All Rights Reserved.\u001b[39;00m\n\u001b[1;32m   (...)\u001b[0m\n\u001b[0;32m      9\u001b[0m \u001b[38;5;66;03m# Copyright (c) Facebook, Inc. and its affiliates.\u001b[39;00m\n\u001b[0;32m     10\u001b[0m \u001b[38;5;66;03m# Modified by Bowen Cheng from https://github.com/fundamentalvision/Deformable-DETR\u001b[39;00m\n\u001b[1;32m---> 12\u001b[0m \u001b[38;5;28;01mfrom\u001b[39;00m\u001b[38;5;250m \u001b[39m\u001b[38;5;21;01m.\u001b[39;00m\u001b[38;5;21;01mms_deform_attn_func\u001b[39;00m\u001b[38;5;250m \u001b[39m\u001b[38;5;28;01mimport\u001b[39;00m MSDeformAttnFunction\n",
      "File \u001b[1;32mc:\\Users\\miner\\Documents\\Github\\cell_segmentation_project\\Mask2Former\\mask2former\\modeling\\pixel_decoder\\ops\\functions\\ms_deform_attn_func.py:29\u001b[0m\n\u001b[0;32m     23\u001b[0m \u001b[38;5;28;01mexcept\u001b[39;00m \u001b[38;5;167;01mModuleNotFoundError\u001b[39;00m \u001b[38;5;28;01mas\u001b[39;00m e:\n\u001b[0;32m     24\u001b[0m     info_string \u001b[38;5;241m=\u001b[39m (\n\u001b[0;32m     25\u001b[0m         \u001b[38;5;124m\"\u001b[39m\u001b[38;5;130;01m\\n\u001b[39;00m\u001b[38;5;130;01m\\n\u001b[39;00m\u001b[38;5;124mPlease compile MultiScaleDeformableAttention CUDA op with the following commands:\u001b[39m\u001b[38;5;130;01m\\n\u001b[39;00m\u001b[38;5;124m\"\u001b[39m\n\u001b[0;32m     26\u001b[0m         \u001b[38;5;124m\"\u001b[39m\u001b[38;5;130;01m\\t\u001b[39;00m\u001b[38;5;124m`cd mask2former/modeling/pixel_decoder/ops`\u001b[39m\u001b[38;5;130;01m\\n\u001b[39;00m\u001b[38;5;124m\"\u001b[39m\n\u001b[0;32m     27\u001b[0m         \u001b[38;5;124m\"\u001b[39m\u001b[38;5;130;01m\\t\u001b[39;00m\u001b[38;5;124m`sh make.sh`\u001b[39m\u001b[38;5;130;01m\\n\u001b[39;00m\u001b[38;5;124m\"\u001b[39m\n\u001b[0;32m     28\u001b[0m     )\n\u001b[1;32m---> 29\u001b[0m     \u001b[38;5;28;01mraise\u001b[39;00m \u001b[38;5;167;01mModuleNotFoundError\u001b[39;00m(info_string)\n\u001b[0;32m     32\u001b[0m \u001b[38;5;28;01mclass\u001b[39;00m\u001b[38;5;250m \u001b[39m\u001b[38;5;21;01mMSDeformAttnFunction\u001b[39;00m(Function):\n\u001b[0;32m     33\u001b[0m     \u001b[38;5;129m@staticmethod\u001b[39m\n\u001b[0;32m     34\u001b[0m     \u001b[38;5;28;01mdef\u001b[39;00m\u001b[38;5;250m \u001b[39m\u001b[38;5;21mforward\u001b[39m(ctx, value, value_spatial_shapes, value_level_start_index, sampling_locations, attention_weights, im2col_step):\n",
      "\u001b[1;31mModuleNotFoundError\u001b[0m: \n\nPlease compile MultiScaleDeformableAttention CUDA op with the following commands:\n\t`cd mask2former/modeling/pixel_decoder/ops`\n\t`sh make.sh`\n"
     ]
    }
   ],
   "source": [
    "from Mask2Former.mask2former import add_maskformer2_config\n",
    "cityscapes_config = r\"C:\\Users\\miner\\Documents\\Github\\cell_segmentation_project\\Mask2Former\\configs\\cityscapes\\semantic-segmentation\\swin\\maskformer2_swin_tiny_bs16_90k.yaml\"\n",
    "cfg = get_cfg()\n",
    "add_deeplab_config(cfg)\n",
    "add_maskformer2_config(cfg)\n",
    "cityscapes_config_folder = Path(cityscapes_config).parent\n",
    "cwd = Path(\".\").absolute()\n",
    "try:\n",
    "    %cd {cityscapes_config_folder}\n",
    "    cfg.merge_from_file(cityscapes_config)\n",
    "finally:\n",
    "    %cd {cwd}"
   ]
  },
  {
   "cell_type": "code",
   "execution_count": null,
   "metadata": {},
   "outputs": [],
   "source": []
  }
 ],
 "metadata": {
  "kernelspec": {
   "display_name": "comp590",
   "language": "python",
   "name": "python3"
  },
  "language_info": {
   "codemirror_mode": {
    "name": "ipython",
    "version": 3
   },
   "file_extension": ".py",
   "mimetype": "text/x-python",
   "name": "python",
   "nbconvert_exporter": "python",
   "pygments_lexer": "ipython3",
   "version": "3.10.16"
  }
 },
 "nbformat": 4,
 "nbformat_minor": 2
}
